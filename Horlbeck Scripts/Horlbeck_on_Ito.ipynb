{
 "cells": [
  {
   "cell_type": "code",
   "execution_count": 1,
   "id": "35b7bb30",
   "metadata": {},
   "outputs": [
    {
     "name": "stderr",
     "output_type": "stream",
     "text": [
      "C:\\Users\\Hamda\\anaconda3New\\lib\\site-packages\\pandas\\core\\arrays\\masked.py:60: UserWarning: Pandas requires version '1.3.6' or newer of 'bottleneck' (version '1.3.5' currently installed).\n",
      "  from pandas.core import (\n"
     ]
    },
    {
     "name": "stdout",
     "output_type": "stream",
     "text": [
      "C:\\Users\\Hamda\\OneDrive\\Documents\\GitHub\\PostDoc\\Conway\\Research\\GIScoring\\Hamda's Work\\ForGitHub\\Horlbeck Scripts\n",
      "C:\\Users\\Hamda\\OneDrive\\Documents\\GitHub\\PostDoc\\Conway\\Research\\GIScoring\\Hamda's Work\\ForGitHub\\Horlbeck Scripts\n"
     ]
    }
   ],
   "source": [
    "import pandas as pd\n",
    "%run Horlbeck_Functions.ipynb\n"
   ]
  },
  {
   "cell_type": "code",
   "execution_count": null,
   "id": "1ec44ac6",
   "metadata": {},
   "outputs": [],
   "source": [
    "# For Horlbec on ITO, I just used the SLKB calculated scores as our assumptions match in this case"
   ]
  },
  {
   "cell_type": "code",
   "execution_count": 2,
   "id": "b60a94ee",
   "metadata": {},
   "outputs": [],
   "source": [
    "\n",
    "slkb = pd.read_csv('../InputData/\\\\SLKB_calculated_scores.csv', sep=',', index_col = 2)\n",
    "slkb = slkb.reset_index()\n",
    "slkb.head()\n",
    "slkb = slkb.rename(columns={'gemini_score_SL_score_SensitiveLethality': 'Gemini_SensL', 'gemini_score_SL_score_SensitiveRecovery': 'Gemini_SR',\n",
    "                           'gemini_score_SL_score_Strong': 'Gemini_strong', 'horlbeck_score_SL_score': 'Horlbeck', 'mageck_score_SL_score':'Mageck',\n",
    "                           'median_b_score_SL_score': 'Median_b','median_b_score_Z_SL_score': 'Median_b_Z', 'median_nb_score_SL_score': 'median_nb',\n",
    "                           'median_nb_score_Z_SL_score': 'Median_nb_z', 'sgrna_derived_b_score_SL_score': 'sgRNA_b',  'sgrna_derived_nb_score_SL_score':'sgRNA_nb',\n",
    "                           })\n",
    "slkb['Horlbeck'] = -1 * slkb['Horlbeck']\n",
    "slkb['Mageck'] = -1 * slkb['Mageck']\n",
    "slkb['Median_b'] = -1 * slkb['Median_b']\n",
    "\n",
    "slkb['Median_b_Z'] = -1 * slkb['Median_b_Z']\n",
    "\n",
    "slkb['median_nb'] = -1 * slkb['median_nb']\n",
    "\n",
    "slkb['Median_nb_z'] = -1 * slkb['Median_nb_z']\n",
    "\n",
    "slkb['sgRNA_b'] = -1 * slkb['sgRNA_b']\n",
    "slkb['sgRNA_nb'] = -1 * slkb['sgRNA_nb']\n",
    "slkb['sorted_gene_pair'] = slkb['gene_1'] + \"_\" + slkb['gene_2']\n",
    "slkb.set_index('sorted_gene_pair', inplace = True)\n",
    "slkb.index = reindex_alphbetically(slkb)\n",
    "slkb\n",
    "#slkb.columns\n",
    "slkb = slkb[slkb['study_origin'] == 34857952] # Ito\n",
    "slkb = slkb[['Horlbeck', 'horlbeck_score_standard_error', 'cell_line_origin']]\n",
    "#slkb"
   ]
  },
  {
   "cell_type": "code",
   "execution_count": 4,
   "id": "efba7cf5",
   "metadata": {},
   "outputs": [],
   "source": [
    "\n",
    "Horlbeck_Ito = slkb.copy()\n",
    "Horlbeck_Ito.reset_index(inplace = True)\n",
    "\n",
    "Horlbeck_Ito = Horlbeck_Ito.pivot(index='index', columns='cell_line_origin', values='Horlbeck')\n",
    "Horlbeck_Ito.to_csv(\"Horlbeck Output/Horlbeck_Ito_From_SLKB.csv\")"
   ]
  }
 ],
 "metadata": {
  "kernelspec": {
   "display_name": "Python 3 (ipykernel)",
   "language": "python",
   "name": "python3"
  },
  "language_info": {
   "codemirror_mode": {
    "name": "ipython",
    "version": 3
   },
   "file_extension": ".py",
   "mimetype": "text/x-python",
   "name": "python",
   "nbconvert_exporter": "python",
   "pygments_lexer": "ipython3",
   "version": "3.10.9"
  }
 },
 "nbformat": 4,
 "nbformat_minor": 5
}
