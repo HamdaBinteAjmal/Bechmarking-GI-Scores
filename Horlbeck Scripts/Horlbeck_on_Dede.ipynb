{
 "cells": [
  {
   "cell_type": "code",
   "execution_count": null,
   "id": "519472ad",
   "metadata": {},
   "outputs": [],
   "source": [
    "%run Horlbeck_Functions.ipynb\n"
   ]
  },
  {
   "cell_type": "code",
   "execution_count": null,
   "id": "9e7987bb",
   "metadata": {},
   "outputs": [],
   "source": [
    "#\n",
    "dede = pd.read_csv('../InputData/Dede/counts.txt', index_col=0, sep='\\t')\n",
    "dede = dede.reset_index()#\n",
    "noness = pd.read_csv('../InputData/Dede/pan-species-control-nonessentials-50genes.txt', sep='\\t', index_col=0)\n",
    "\n",
    "dede_A549  = dede.copy()\n",
    "dede_OVCAR8 = dede.copy()\n",
    "dede_HT29 = dede.copy()\n",
    "dede"
   ]
  },
  {
   "cell_type": "code",
   "execution_count": null,
   "id": "e5ccb0aa",
   "metadata": {},
   "outputs": [],
   "source": [
    "dede_A549[['sgRNA_guide_name_g1', 'sgRNA_guide_name_g2']] =  dede_A549['GENE'].str.split(':', expand=True)\n",
    "dede_A549[['sgRNA_target_name_g1', 'sgRNA_guide_seq_g1', 'sgRNA_target_name_g2', 'sgRNA_guide_seq_g2']] = dede_A549['GENE_CLONE'].str.split('_', expand=True)\n",
    "dede_A549.loc[ dede_A549['sgRNA_target_name_g1'].isin(noness.index), 'sgRNA_target_name_g1' ] = 'CONTROL'\n",
    "dede_A549.loc[ dede_A549['sgRNA_target_name_g2'].isin(noness.index), 'sgRNA_target_name_g2' ] = 'CONTROL'\n",
    "#\n",
    "\n",
    "dede_A549['count_replicates'] = dede_A549['plasmid.T0.Ex'].astype(str)  +  \";\" + dede_A549['A549.T2A.Ex'].astype(str) + \";\" + dede_A549['A549.T2B.Ex'].astype(str) + \";\" + dede_A549['A549.T2C.Ex'].astype(str)\n",
    "dede_A549['cell_line_origin'] = \"A549\"\n",
    "dede_A549['study_conditions'] = \"T0_1;T2A;T2B;T2C\"\n",
    "\n",
    "dede_A549['study_origin'] = 'Dede'\n",
    "\n",
    "dede_A549['target_type'] = 'Dual'\n",
    "dede_A549.loc[(dede_A549['sgRNA_target_name_g1'] == 'CONTROL') | (dede_A549['sgRNA_target_name_g2'] == 'CONTROL'), 'target_type'] = 'Single'\n",
    "dede_A549.loc[(dede_A549['sgRNA_target_name_g1'] == dede_A549['sgRNA_target_name_g2']), 'target_type'] = 'Single'\n",
    "\n",
    "\n",
    "dede_A549.loc[(dede_A549['sgRNA_target_name_g1'] == 'CONTROL') & (dede_A549['sgRNA_target_name_g2'] == 'CONTROL'), 'target_type'] = 'Control'\n",
    "dede_A549['T0_counts'] = dede_A549['plasmid.T0.Ex'].astype(str) \n",
    "dede_A549['T0_replicate_names'] =  'T0_1'#'\n",
    "dede_A549['TEnd_counts'] = dede_A549['A549.T2A.Ex'].astype(str) + \";\" + dede_A549['A549.T2B.Ex'].astype(str) + \";\" + dede_A549['A549.T2C.Ex'].astype(str)\n",
    "dede_A549['TEnd_replicate_names'] = 'T2A' + \";\" \"T2B\" + \";\" + \"T2C\"\n",
    "dede_A549['gene_pair_id'] = dede_A549['sgRNA_target_name_g1'] + \"|\" + dede_A549['sgRNA_target_name_g2']\n",
    "dede_A549['gene_pair'] = dede_A549['gene_pair_id']\n",
    "\n",
    "dede_A549['sgRNA_pair'] = dede_A549['sgRNA_guide_name_g1'] + \"|\" + dede_A549['sgRNA_guide_name_g2'] \n",
    "dede_A549['gene_pair_orientation'] = dede_A549.apply(lambda row: 'A_B' if row['sgRNA_target_name_g1'] > row['sgRNA_target_name_g2'] else 'B_A', axis=1)\n",
    "dede_A549 = dede_A549[['sgRNA_guide_name_g1','sgRNA_guide_name_g2','sgRNA_target_name_g1','sgRNA_target_name_g2','count_replicates','cell_line_origin','study_conditions','study_origin','target_type','T0_counts','T0_replicate_names','TEnd_counts','TEnd_replicate_names','gene_pair','gene_pair_orientation']]\n",
    "\n",
    "dede_A549\n",
    "\n",
    "\n",
    "#dede_A549\n"
   ]
  },
  {
   "cell_type": "code",
   "execution_count": null,
   "id": "4a699811",
   "metadata": {},
   "outputs": [],
   "source": [
    "s1 = run_horlbeck_score(dede_A549, 'Dede', \"A549_dede\", do_preprocessing= True, re_run=True, filterThreshold = 0)"
   ]
  },
  {
   "cell_type": "code",
   "execution_count": null,
   "id": "fb9522f2",
   "metadata": {},
   "outputs": [],
   "source": [
    "s1_noP = s1_noP['HORLBECK_SCORE']\n",
    "display(s1_noP[s1_noP.isnull().any(axis=1)])\n",
    "\n",
    "#s1['HORLBECK_SCORE']\n",
    "s1 = s1['HORLBECK_SCORE']\n"
   ]
  },
  {
   "cell_type": "code",
   "execution_count": null,
   "id": "72266c1e",
   "metadata": {},
   "outputs": [],
   "source": [
    "dede_OVCAR8[['sgRNA_guide_name_g1', 'sgRNA_guide_name_g2']] =  dede_OVCAR8['GENE'].str.split(':', expand=True)\n",
    "dede_OVCAR8[['sgRNA_target_name_g1', 'sgRNA_guide_seq_g1', 'sgRNA_target_name_g2', 'sgRNA_guide_seq_g2']] = dede_OVCAR8['GENE_CLONE'].str.split('_', expand=True)\n",
    "dede_OVCAR8.loc[ dede_OVCAR8['sgRNA_target_name_g1'].isin(noness.index), 'sgRNA_target_name_g1' ] = 'CONTROL'\n",
    "dede_OVCAR8.loc[ dede_OVCAR8['sgRNA_target_name_g2'].isin(noness.index), 'sgRNA_target_name_g2' ] = 'CONTROL'\n",
    "#\n",
    "\n",
    "dede_OVCAR8['count_replicates'] = dede_OVCAR8['plasmid.T0.Ex'].astype(str)  +  \";\" + dede_OVCAR8['OVCAR8.T2A.Ex'].astype(str) + \";\" + dede_OVCAR8['OVCAR8.T2B.Ex'].astype(str) + \";\" + dede_OVCAR8['OVCAR8.T2C.Ex'].astype(str)\n",
    "dede_OVCAR8['cell_line_origin'] = \"OVCAR8\"\n",
    "dede_OVCAR8['study_conditions'] = \"T0_1;T2A;T2B;T2C\"\n",
    "\n",
    "dede_OVCAR8['study_origin'] = 'Dede'\n",
    "\n",
    "dede_OVCAR8['target_type'] = 'Dual'\n",
    "dede_OVCAR8.loc[(dede_OVCAR8['sgRNA_target_name_g1'] == 'CONTROL') | (dede_OVCAR8['sgRNA_target_name_g2'] == 'CONTROL'), 'target_type'] = 'Single'\n",
    "dede_OVCAR8.loc[(dede_OVCAR8['sgRNA_target_name_g1'] == dede_OVCAR8['sgRNA_target_name_g2']), 'target_type'] = 'Single'\n",
    "\n",
    "\n",
    "dede_OVCAR8.loc[(dede_OVCAR8['sgRNA_target_name_g1'] == 'CONTROL') & (dede_OVCAR8['sgRNA_target_name_g2'] == 'CONTROL'), 'target_type'] = 'Control'\n",
    "dede_OVCAR8['T0_counts'] = dede_OVCAR8['plasmid.T0.Ex'].astype(str) \n",
    "dede_OVCAR8['T0_replicate_names'] =  'T0_1'#'\n",
    "dede_OVCAR8['TEnd_counts'] = dede_OVCAR8['OVCAR8.T2A.Ex'].astype(str) + \";\" + dede_OVCAR8['OVCAR8.T2B.Ex'].astype(str) + \";\" + dede_OVCAR8['OVCAR8.T2C.Ex'].astype(str)\n",
    "dede_OVCAR8['TEnd_replicate_names'] = 'T2A' + \";\" \"T2B\" + \";\" + \"T2C\"\n",
    "dede_OVCAR8['gene_pair_id'] = dede_OVCAR8['sgRNA_target_name_g1'] + \"|\" + dede_OVCAR8['sgRNA_target_name_g2']\n",
    "dede_OVCAR8['gene_pair'] = dede_OVCAR8['gene_pair_id']\n",
    "\n",
    "dede_OVCAR8['sgRNA_pair'] = dede_OVCAR8['sgRNA_guide_name_g1'] + \"|\" + dede_OVCAR8['sgRNA_guide_name_g2'] \n",
    "dede_OVCAR8['gene_pair_orientation'] = dede_OVCAR8.apply(lambda row: 'A_B' if row['sgRNA_target_name_g1'] > row['sgRNA_target_name_g2'] else 'B_A', axis=1)\n",
    "dede_OVCAR8 = dede_OVCAR8[['sgRNA_guide_name_g1','sgRNA_guide_name_g2','sgRNA_target_name_g1','sgRNA_target_name_g2','count_replicates','cell_line_origin','study_conditions','study_origin','target_type','T0_counts','T0_replicate_names','TEnd_counts','TEnd_replicate_names','gene_pair','gene_pair_orientation']]\n",
    "\n",
    "dede_OVCAR8\n",
    "\n"
   ]
  },
  {
   "cell_type": "code",
   "execution_count": null,
   "id": "5dd3102f",
   "metadata": {},
   "outputs": [],
   "source": [
    "s2 = run_horlbeck_score(dede_OVCAR8, 'OVCAR8', \"OVCAR8_dede\", do_preprocessing= True, re_run=True, filterThreshold=0)\n"
   ]
  },
  {
   "cell_type": "code",
   "execution_count": null,
   "id": "ca1baa60",
   "metadata": {},
   "outputs": [],
   "source": [
    "s2 = s2_noP['HORLBECK_SCORE']\n",
    "\n",
    "s2 = s2['HORLBECK_SCORE']\n"
   ]
  },
  {
   "cell_type": "code",
   "execution_count": null,
   "id": "62e949c0",
   "metadata": {},
   "outputs": [],
   "source": [
    "dede_HT29[['sgRNA_guide_name_g1', 'sgRNA_guide_name_g2']] =  dede_HT29['GENE'].str.split(':', expand=True)\n",
    "dede_HT29[['sgRNA_target_name_g1', 'sgRNA_guide_seq_g1', 'sgRNA_target_name_g2', 'sgRNA_guide_seq_g2']] = dede_HT29['GENE_CLONE'].str.split('_', expand=True)\n",
    "dede_HT29.loc[ dede_HT29['sgRNA_target_name_g1'].isin(noness.index), 'sgRNA_target_name_g1' ] = 'CONTROL'\n",
    "dede_HT29.loc[ dede_HT29['sgRNA_target_name_g2'].isin(noness.index), 'sgRNA_target_name_g2' ] = 'CONTROL'\n",
    "#\n",
    "\n",
    "dede_HT29['count_replicates'] = dede_HT29['plasmid.T0.Ex'].astype(str)  +  \";\" + dede_HT29['HT29.T2A.Ex'].astype(str) + \";\" + dede_HT29['HT29.T2B.Ex'].astype(str) + \";\" + dede_HT29['HT29.T2C.Ex'].astype(str)\n",
    "dede_HT29['cell_line_origin'] = \"HT29\"\n",
    "dede_HT29['study_conditions'] = \"T0_1;T2A;T2B;T2C\"\n",
    "\n",
    "dede_HT29['study_origin'] = 'Dede'\n",
    "\n",
    "dede_HT29['target_type'] = 'Dual'\n",
    "dede_HT29.loc[(dede_HT29['sgRNA_target_name_g1'] == 'CONTROL') | (dede_HT29['sgRNA_target_name_g2'] == 'CONTROL'), 'target_type'] = 'Single'\n",
    "dede_HT29.loc[(dede_HT29['sgRNA_target_name_g1'] == dede_HT29['sgRNA_target_name_g2']), 'target_type'] = 'Single'\n",
    "\n",
    "\n",
    "dede_HT29.loc[(dede_HT29['sgRNA_target_name_g1'] == 'CONTROL') & (dede_HT29['sgRNA_target_name_g2'] == 'CONTROL'), 'target_type'] = 'Control'\n",
    "dede_HT29['T0_counts'] = dede_HT29['plasmid.T0.Ex'].astype(str) \n",
    "dede_HT29['T0_replicate_names'] =  'T0_1'#'\n",
    "dede_HT29['TEnd_counts'] = dede_HT29['HT29.T2A.Ex'].astype(str) + \";\" + dede_HT29['HT29.T2B.Ex'].astype(str) + \";\" + dede_HT29['HT29.T2C.Ex'].astype(str)\n",
    "dede_HT29['TEnd_replicate_names'] = 'T2A' + \";\" \"T2B\" + \";\" + \"T2C\"\n",
    "dede_HT29['gene_pair_id'] = dede_HT29['sgRNA_target_name_g1'] + \"|\" + dede_HT29['sgRNA_target_name_g2']\n",
    "dede_HT29['gene_pair'] = dede_HT29['gene_pair_id']\n",
    "\n",
    "dede_HT29['sgRNA_pair'] = dede_HT29['sgRNA_guide_name_g1'] + \"|\" + dede_HT29['sgRNA_guide_name_g2'] \n",
    "dede_HT29['gene_pair_orientation'] = dede_HT29.apply(lambda row: 'A_B' if row['sgRNA_target_name_g1'] > row['sgRNA_target_name_g2'] else 'B_A', axis=1)\n",
    "dede_HT29 = dede_HT29[['sgRNA_guide_name_g1','sgRNA_guide_name_g2','sgRNA_target_name_g1','sgRNA_target_name_g2','count_replicates','cell_line_origin','study_conditions','study_origin','target_type','T0_counts','T0_replicate_names','TEnd_counts','TEnd_replicate_names','gene_pair','gene_pair_orientation']]\n",
    "\n",
    "dede_HT29\n"
   ]
  },
  {
   "cell_type": "code",
   "execution_count": null,
   "id": "a6e6b967",
   "metadata": {},
   "outputs": [],
   "source": [
    "s3 = run_horlbeck_score(dede_HT29, 'HT29', \"HT29_dede\", do_preprocessing= True, re_run=True, filterThreshold=0)\n"
   ]
  },
  {
   "cell_type": "code",
   "execution_count": null,
   "id": "5b2f758a",
   "metadata": {},
   "outputs": [],
   "source": [
    "s3_noP = s3_noP['HORLBECK_SCORE']\n",
    "\n",
    "#s1['HORLBECK_SCORE']\n",
    "s3 = s3['HORLBECK_SCORE']\n"
   ]
  },
  {
   "cell_type": "code",
   "execution_count": null,
   "id": "3919256f",
   "metadata": {},
   "outputs": [],
   "source": [
    "score_HT29 = s3['HORLBECK_SCORE'].copy()\n",
    "score_OVCAR8 = s2['HORLBECK_SCORE'].copy()\n",
    "score_A549 = s1['HORLBECK_SCORE'].copy()\n",
    "\n",
    "score_A549 = score_A549.drop(['Gene 1', 'Gene 2'], axis=1)\n",
    "score_OVCAR8 = score_OVCAR8.drop(['Gene 1', 'Gene 2'], axis=1)\n",
    "score_HT29 = score_HT29.drop(['Gene 1', 'Gene 2'], axis=1)\n",
    "\n",
    "score_A549 = score_A549.add_prefix('A549_')\n",
    "score_OVCAR8 = score_OVCAR8.add_prefix('OVCAR8_')\n",
    "score_HT29 = score_HT29.add_prefix('HT29_')\n",
    "\n",
    "dede_scores = pd.concat([score_A549, score_HT29, score_OVCAR8], axis=1)\n",
    "dede_scores\n",
    "\n"
   ]
  },
  {
   "cell_type": "code",
   "execution_count": null,
   "id": "81881569",
   "metadata": {},
   "outputs": [],
   "source": [
    "#All scores ran on SONIC\n",
    "dede_scores.to_csv(\"Horlbeck Output/Horlbeck_dede.csv\")"
   ]
  }
 ],
 "metadata": {
  "kernelspec": {
   "display_name": "Python 3 (ipykernel)",
   "language": "python",
   "name": "python3"
  },
  "language_info": {
   "codemirror_mode": {
    "name": "ipython",
    "version": 3
   },
   "file_extension": ".py",
   "mimetype": "text/x-python",
   "name": "python",
   "nbconvert_exporter": "python",
   "pygments_lexer": "ipython3",
   "version": "3.10.9"
  }
 },
 "nbformat": 4,
 "nbformat_minor": 5
}
