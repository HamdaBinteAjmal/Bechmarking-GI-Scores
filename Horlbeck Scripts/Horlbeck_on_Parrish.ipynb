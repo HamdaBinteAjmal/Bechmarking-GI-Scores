{
 "cells": [
  {
   "cell_type": "code",
   "execution_count": null,
   "id": "0279aa54",
   "metadata": {},
   "outputs": [],
   "source": [
    "# In this file, I will re-run Horlbeck on Parrish due to the following reasons:\n",
    "# SLKB uses normalised o9unts for Parrish which is not  a correct approach. We need raw counts\n",
    "# We will use ETP for both PC9 and HeLa and run horlbeck, not plasmid.\n",
    "\n",
    "%run Horlbeck_Functions.ipynb\n"
   ]
  },
  {
   "cell_type": "code",
   "execution_count": null,
   "id": "9c2d30de",
   "metadata": {},
   "outputs": [],
   "source": [
    "Parrish = pd.read_table(\"../InputData/Parrish/GSE178179_pgPEN_counts_PC9.txt\")\n",
    "\n",
    "Parrish.rename(columns = {'gRNA1_seq' :'sgRNA_guide_seq_g1', 'gRNA2_seq' :'sgRNA_guide_seq_g2' }, inplace = True)#Parrish\n",
    "Parrish[['sgRNA_target_name_g1', 'sgRNA_target_name_g2']] = Parrish['paralog_pair'].str.split('|', expand=True)\n",
    "Parrish['study_origin'] = 'Parrish'\n",
    "Parrish['target_type'] = 'Dual'\n",
    "## Anything with nt  is control in this study\n",
    "Parrish\n",
    "\n",
    "Parrish.loc[Parrish['sgRNA_target_name_g1'].str.contains('^nt[0-8]{1}'),'sgRNA_target_name_g1'] = 'CONTROL'\n",
    "Parrish.loc[Parrish['sgRNA_target_name_g2'].str.contains('^nt[0-8]{1}'),'sgRNA_target_name_g2'] = 'CONTROL'\n",
    "\n",
    "Parrish.loc[(Parrish['sgRNA_target_name_g1'] == Parrish['sgRNA_target_name_g2']), 'target_type'] =   'Single'\n",
    "Parrish.loc[(Parrish['sgRNA_target_name_g1'] == 'CONTROL') | (Parrish['sgRNA_target_name_g2'] == 'CONTROL'), 'target_type'] = 'Single'\n",
    "# From paper: Five hundred double non-targeting pgRNAs were included as a control. This\n",
    "Parrish.loc[(Parrish['sgRNA_target_name_g1'].str.startswith('NTpg')),'sgRNA_target_name_g1'] = \"CONTROL\" # & (Parrish['sgRNA_target_name_g2'] == 'NA'), 'target_type'] = 'Control'\n",
    "Parrish.loc[(Parrish['sgRNA_target_name_g1'] == \"CONTROL\") & (Parrish['sgRNA_target_name_g2'] == \"NA\") , 'sgRNA_target_name_g2'] = \"CONTROL\"\n",
    "Parrish.loc[(Parrish['sgRNA_target_name_g1'] == \"CONTROL\") & (Parrish['sgRNA_target_name_g2'] == \"CONTROL\") , 'target_type'] = \"Control\"\n",
    "\n",
    "Parrish['gene_pair_id'] = Parrish['sgRNA_target_name_g1'] + \"|\" + Parrish['sgRNA_target_name_g2']\n",
    "Parrish['sgRNA_guide_name_g1'] = Parrish['sgRNA_guide_seq_g1'] \n",
    "Parrish['sgRNA_guide_name_g2'] = Parrish['sgRNA_guide_seq_g2']\n",
    "\n",
    "Parrish['gene_pair_orientation'] = Parrish.apply(lambda row: 'A_B' if row['sgRNA_target_name_g1'] > row['sgRNA_target_name_g2'] else 'B_A', axis=1)\n",
    "display(Parrish)"
   ]
  },
  {
   "cell_type": "code",
   "execution_count": null,
   "id": "d83729b6",
   "metadata": {},
   "outputs": [],
   "source": [
    "Parrish_PC9 = Parrish.copy()\n",
    "Parrish_PC9.drop(['PC9_plasmid', 'HeLa_plasmid','HeLa_ETP', 'HeLa_LTP_RepA', 'HeLa_LTP_RepB', 'HeLa_LTP_RepC'], inplace = True, axis = 1)\n",
    "Parrish_PC9['study_conditions'] = \"PC9_ETP_RepA;PC9_ETP_RepB;PC9_ETP_RepC;PC9_LTP_RepA;PC9_LTP_RepB;PC9_LTP_RepC\" #\"T0_1;T0_2;T0_3;T12_1;T12_2;T12_3\"\n",
    "Parrish_PC9['gene_pair'] = Parrish_PC9['gene_pair_id']\n",
    "Parrish_PC9['count_replicates'] = Parrish_PC9['PC9_ETP_RepA'].astype(str) + \";\" + Parrish_PC9['PC9_ETP_RepB'].astype(str) + \";\" + Parrish_PC9['PC9_ETP_RepC'].astype(str) + \";\" + Parrish_PC9['PC9_LTP_RepA'].astype(str) + \";\" + Parrish_PC9['PC9_LTP_RepB'].astype(str) + \";\" + Parrish_PC9['PC9_LTP_RepC'].astype(str)\n",
    "Parrish_PC9['cell_line_origin'] = \"PC9\"\n",
    "Parrish_PC9['T0_counts'] = Parrish_PC9['PC9_ETP_RepA'].astype(str) + \";\" + Parrish_PC9['PC9_ETP_RepB'].astype(str) + \";\" + Parrish_PC9['PC9_ETP_RepC'].astype(str)\n",
    "Parrish_PC9['T0_replicate_names'] =  'PC9_ETP_RepA;PC9_ETP_RepB;PC9_ETP_RepC'\n",
    "Parrish_PC9['TEnd_counts'] = Parrish_PC9['PC9_LTP_RepA'].astype(str) + \";\" + Parrish_PC9['PC9_LTP_RepB'].astype(str) + \";\" + Parrish_PC9['PC9_LTP_RepC'].astype(str)\n",
    "Parrish_PC9['TEnd_replicate_names'] = \"PC9_LTP_RepA;PC9_LTP_RepB;PC9_LTP_RepC\"\n",
    "Parrish_PC9 = Parrish_PC9[['sgRNA_guide_name_g1','sgRNA_guide_name_g2','sgRNA_target_name_g1','sgRNA_target_name_g2','count_replicates','cell_line_origin','study_conditions','study_origin','target_type','T0_counts','T0_replicate_names','TEnd_counts','TEnd_replicate_names','gene_pair','gene_pair_orientation']]\n",
    "Parrish_PC9\n",
    "\n",
    "Parrish_Horlbeck_PC9 = run_horlbeck_score(Parrish_PC9, 'Parrish', \"PC9\", do_preprocessing= True, re_run=True, filterThreshold=0)\n",
    "\n",
    "s1 = Parrish_Horlbeck_PC9['HORLBECK_SCORE']\n"
   ]
  },
  {
   "cell_type": "code",
   "execution_count": null,
   "id": "8b76c4d1",
   "metadata": {},
   "outputs": [],
   "source": [
    "\n",
    "Parrish_HeLa = Parrish.copy()\n",
    "Parrish_HeLa.drop(['PC9_plasmid', 'HeLa_plasmid','PC9_ETP_RepA','PC9_ETP_RepB','PC9_ETP_RepC', 'PC9_LTP_RepA', 'PC9_LTP_RepB', 'PC9_LTP_RepC'], inplace = True, axis = 1)\n",
    "Parrish_HeLa['study_conditions'] = \"HeLa_ETP;HeLa_LTP_RepA;HeLa_LTP_RepB;HeLa_LTP_RepC\" \n",
    "Parrish_HeLa['gene_pair'] = Parrish_HeLa['gene_pair_id']\n",
    "Parrish_HeLa['count_replicates'] = Parrish_HeLa['HeLa_ETP'].astype(str) + \";\"+ Parrish_HeLa['HeLa_LTP_RepA'].astype(str) + \";\" + Parrish_HeLa['HeLa_LTP_RepB'].astype(str) + \";\" + Parrish_HeLa['HeLa_LTP_RepC'].astype(str)\n",
    "Parrish_HeLa['cell_line_origin'] = \"HeLa\"\n",
    "Parrish_HeLa['T0_counts'] = Parrish_HeLa['HeLa_ETP'].astype(str)\n",
    "Parrish_HeLa['T0_replicate_names'] =  'HeLa_ETP'\n",
    "Parrish_HeLa['TEnd_counts'] = Parrish_HeLa['HeLa_LTP_RepA'].astype(str) + \";\" + Parrish_HeLa['HeLa_LTP_RepB'].astype(str) + \";\" + Parrish_HeLa['HeLa_LTP_RepC'].astype(str)\n",
    "Parrish_HeLa['TEnd_replicate_names'] = \"HeLa_LTP_RepA;HeLa_LTP_RepB;HeLa_LTP_RepC\"\n",
    "Parrish_HeLa = Parrish_HeLa[['sgRNA_guide_name_g1','sgRNA_guide_name_g2','sgRNA_target_name_g1','sgRNA_target_name_g2','count_replicates','cell_line_origin','study_conditions','study_origin','target_type','T0_counts','T0_replicate_names','TEnd_counts','TEnd_replicate_names','gene_pair','gene_pair_orientation']]\n",
    "Parrish_HeLa\n",
    "\n",
    "Parrish_Horlbeck_HeLa = run_horlbeck_score(Parrish_HeLa, 'Parrish', \"HeLa\", do_preprocessing= True, re_run=True,filterThreshold=0)\n",
    "s2 = Parrish_Horlbeck_HeLa['HORLBECK_SCORE']\n"
   ]
  },
  {
   "cell_type": "code",
   "execution_count": null,
   "id": "a507654a",
   "metadata": {},
   "outputs": [],
   "source": [
    "# OK so Horlbeck Score was ran on SONIC. Now read and combine the files\n",
    "Score_PC9 = pd.read_csv(\"Parrish_Horlbeck_PC9\")\n",
    "Score_HeLa = pd.read_csv(\"Parrish_Horlbeck_HeLa\")\n",
    "\n",
    "\n",
    "Score_PC9.rename(columns = {'SL_score': 'PC9' }, inplace = True)\n",
    "Score_HeLa.rename(columns = {'SL_score': 'HeLa' }, inplace = True)\n",
    "\n",
    "Score_PC9 =  Score_PC9[['gene_pair', 'PC9']]\n",
    "Score_HeLa =  Score_HeLa[['gene_pair','HeLa']]\n",
    "Score_PC9.set_index('gene_pair', inplace = True)\n",
    "Score_HeLa.set_index('gene_pair', inplace = True)\n",
    "\n",
    "Horlbeck_Parrish = Score_PC9.join(Score_HeLa, how='outer')\n"
   ]
  },
  {
   "cell_type": "code",
   "execution_count": null,
   "id": "1c44c2a7",
   "metadata": {},
   "outputs": [],
   "source": [
    "#Horlbeck_Parrish.to_csv(\"Horlbeck Output/Horlbeck_Parrish.csv\")\n",
    "Score_PC9.to_csv(\"Horlbeck Output/Horlbeck_Parrish_PC9.csv\") \n",
    "Score_HeLa.to_csv(\"Horlbeck Output/Horlbeck_Parrish_HeLa.csv\") \n",
    "\n"
   ]
  }
 ],
 "metadata": {
  "kernelspec": {
   "display_name": "Python 3 (ipykernel)",
   "language": "python",
   "name": "python3"
  },
  "language_info": {
   "codemirror_mode": {
    "name": "ipython",
    "version": 3
   },
   "file_extension": ".py",
   "mimetype": "text/x-python",
   "name": "python",
   "nbconvert_exporter": "python",
   "pygments_lexer": "ipython3",
   "version": "3.10.9"
  }
 },
 "nbformat": 4,
 "nbformat_minor": 5
}
